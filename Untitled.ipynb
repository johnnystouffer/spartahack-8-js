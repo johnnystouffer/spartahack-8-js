{
 "cells": [
  {
   "cell_type": "code",
   "execution_count": 1,
   "id": "d4aebb8d",
   "metadata": {},
   "outputs": [],
   "source": [
    "from bs4 import BeautifulSoup"
   ]
  },
  {
   "cell_type": "code",
   "execution_count": 2,
   "id": "e106528b",
   "metadata": {},
   "outputs": [],
   "source": [
    "import requests"
   ]
  },
  {
   "cell_type": "code",
   "execution_count": 3,
   "id": "cbb9d5bc",
   "metadata": {},
   "outputs": [],
   "source": [
    "import pandas as pd\n",
    "import numpy as np\n",
    "import plotly.express as px"
   ]
  },
  {
   "cell_type": "code",
   "execution_count": 7,
   "id": "81dfa758",
   "metadata": {},
   "outputs": [
    {
     "data": {
      "text/html": [
       "<div>\n",
       "<style scoped>\n",
       "    .dataframe tbody tr th:only-of-type {\n",
       "        vertical-align: middle;\n",
       "    }\n",
       "\n",
       "    .dataframe tbody tr th {\n",
       "        vertical-align: top;\n",
       "    }\n",
       "\n",
       "    .dataframe thead th {\n",
       "        text-align: right;\n",
       "    }\n",
       "</style>\n",
       "<table border=\"1\" class=\"dataframe\">\n",
       "  <thead>\n",
       "    <tr style=\"text-align: right;\">\n",
       "      <th></th>\n",
       "      <th>column</th>\n",
       "    </tr>\n",
       "  </thead>\n",
       "  <tbody>\n",
       "    <tr>\n",
       "      <th>count</th>\n",
       "      <td>373</td>\n",
       "    </tr>\n",
       "    <tr>\n",
       "      <th>unique</th>\n",
       "      <td>370</td>\n",
       "    </tr>\n",
       "    <tr>\n",
       "      <th>top</th>\n",
       "      <td>1 WAIT FOR U , Future featuring Drake &amp; Tims (...</td>\n",
       "    </tr>\n",
       "    <tr>\n",
       "      <th>freq</th>\n",
       "      <td>2</td>\n",
       "    </tr>\n",
       "  </tbody>\n",
       "</table>\n",
       "</div>"
      ],
      "text/plain": [
       "                                                   column\n",
       "count                                                 373\n",
       "unique                                                370\n",
       "top     1 WAIT FOR U , Future featuring Drake & Tims (...\n",
       "freq                                                    2"
      ]
     },
     "execution_count": 7,
     "metadata": {},
     "output_type": "execute_result"
    }
   ],
   "source": [
    "music_ranks = pd.read_csv(\"run_results.csv\")\n",
    "music_ranks.describe()\n"
   ]
  },
  {
   "cell_type": "code",
   "execution_count": 10,
   "id": "e8888bbb",
   "metadata": {},
   "outputs": [
    {
     "data": {
      "text/html": [
       "<div>\n",
       "<style scoped>\n",
       "    .dataframe tbody tr th:only-of-type {\n",
       "        vertical-align: middle;\n",
       "    }\n",
       "\n",
       "    .dataframe tbody tr th {\n",
       "        vertical-align: top;\n",
       "    }\n",
       "\n",
       "    .dataframe thead th {\n",
       "        text-align: right;\n",
       "    }\n",
       "</style>\n",
       "<table border=\"1\" class=\"dataframe\">\n",
       "  <thead>\n",
       "    <tr style=\"text-align: right;\">\n",
       "      <th></th>\n",
       "      <th>column</th>\n",
       "    </tr>\n",
       "  </thead>\n",
       "  <tbody>\n",
       "    <tr>\n",
       "      <th>0</th>\n",
       "      <td>TW LW TITLE ARTIST (LABEL) WEEKS PEAK (#1)\\n1 ...</td>\n",
       "    </tr>\n",
       "    <tr>\n",
       "      <th>1</th>\n",
       "      <td>11 15 THE CHRISTMAS SONG (MERRY CHRISTMAS TO Y...</td>\n",
       "    </tr>\n",
       "    <tr>\n",
       "      <th>2</th>\n",
       "      <td>21 27 WHITE CHRISTMAS , Bing Crosby (Decca (19...</td>\n",
       "    </tr>\n",
       "    <tr>\n",
       "      <th>3</th>\n",
       "      <td>31 26 BAD HABITS , Ed Sheeran (Asylum) 26 (2)\\...</td>\n",
       "    </tr>\n",
       "    <tr>\n",
       "      <th>4</th>\n",
       "      <td>42 31 I HATE U , SZA (Top Dawg/ RCA) 3 (7)\\n45...</td>\n",
       "    </tr>\n",
       "    <tr>\n",
       "      <th>...</th>\n",
       "      <td>...</td>\n",
       "    </tr>\n",
       "    <tr>\n",
       "      <th>368</th>\n",
       "      <td>21 35 IT’S BEGINNING TO LOOK A LOT LIKE CHRIST...</td>\n",
       "    </tr>\n",
       "    <tr>\n",
       "      <th>369</th>\n",
       "      <td>31 re YOU’RE A MEAN ONE, MR. GRINCH , Thurl Ra...</td>\n",
       "    </tr>\n",
       "    <tr>\n",
       "      <th>370</th>\n",
       "      <td>41 34 SUPERHERO (HEROES &amp; VILLAINS) , Metro Bo...</td>\n",
       "    </tr>\n",
       "    <tr>\n",
       "      <th>371</th>\n",
       "      <td>42 re MERRY CHRISTMAS , Ed Sheeran &amp; Elton Joh...</td>\n",
       "    </tr>\n",
       "    <tr>\n",
       "      <th>372</th>\n",
       "      <td>30 re LITTLE SAINT NICK , the Beach Boys (Capi...</td>\n",
       "    </tr>\n",
       "  </tbody>\n",
       "</table>\n",
       "<p>370 rows × 1 columns</p>\n",
       "</div>"
      ],
      "text/plain": [
       "                                                column\n",
       "0    TW LW TITLE ARTIST (LABEL) WEEKS PEAK (#1)\\n1 ...\n",
       "1    11 15 THE CHRISTMAS SONG (MERRY CHRISTMAS TO Y...\n",
       "2    21 27 WHITE CHRISTMAS , Bing Crosby (Decca (19...\n",
       "3    31 26 BAD HABITS , Ed Sheeran (Asylum) 26 (2)\\...\n",
       "4    42 31 I HATE U , SZA (Top Dawg/ RCA) 3 (7)\\n45...\n",
       "..                                                 ...\n",
       "368  21 35 IT’S BEGINNING TO LOOK A LOT LIKE CHRIST...\n",
       "369  31 re YOU’RE A MEAN ONE, MR. GRINCH , Thurl Ra...\n",
       "370  41 34 SUPERHERO (HEROES & VILLAINS) , Metro Bo...\n",
       "371  42 re MERRY CHRISTMAS , Ed Sheeran & Elton Joh...\n",
       "372  30 re LITTLE SAINT NICK , the Beach Boys (Capi...\n",
       "\n",
       "[370 rows x 1 columns]"
      ]
     },
     "execution_count": 10,
     "metadata": {},
     "output_type": "execute_result"
    }
   ],
   "source": [
    "music = music_ranks.drop_duplicates()\n",
    "music"
   ]
  },
  {
   "cell_type": "code",
   "execution_count": null,
   "id": "b378df96",
   "metadata": {},
   "outputs": [],
   "source": []
  }
 ],
 "metadata": {
  "kernelspec": {
   "display_name": "Python 3 (ipykernel)",
   "language": "python",
   "name": "python3"
  },
  "language_info": {
   "codemirror_mode": {
    "name": "ipython",
    "version": 3
   },
   "file_extension": ".py",
   "mimetype": "text/x-python",
   "name": "python",
   "nbconvert_exporter": "python",
   "pygments_lexer": "ipython3",
   "version": "3.9.13"
  }
 },
 "nbformat": 4,
 "nbformat_minor": 5
}
